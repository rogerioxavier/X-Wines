{
 "cells": [
  {
   "cell_type": "markdown",
   "id": "0f085829",
   "metadata": {},
   "source": [
    "#### A study using X-Wines Slim version dataset with recommender systems metrics\n",
    "#### Rogério Xavier de Azambuja (rogerio.xavier@farroupilha.ifrs.edu.br)\n",
    "#### Dataset X-Wines from https://github.com/rogerioxavier/X-Wines"
   ]
  },
  {
   "cell_type": "code",
   "execution_count": 1,
   "id": "1630b736",
   "metadata": {},
   "outputs": [
    {
     "name": "stdout",
     "output_type": "stream",
     "text": [
      "FM model is only supported on Linux.\n",
      "Windows executable can be found at http://www.libfm.org.\n",
      "System version: 3.7.15 (default, Nov  9 2022, 10:44:37) [MSC v.1916 64 bit (AMD64)]\n",
      "Cornac version: 1.14.2\n",
      "Tensorflow version: 1.15.0\n"
     ]
    }
   ],
   "source": [
    "# Opening required packages for processing\n",
    "# basic libs\n",
    "import sys\n",
    "import pandas as pd\n",
    "import numpy as np\n",
    "import random\n",
    "from tqdm.notebook import tqdm\n",
    "\n",
    "# Cornac[1] framework\n",
    "import cornac\n",
    "from cornac.eval_methods import RatioSplit\n",
    "from cornac.models import PMF, NMF, MMMF, BPR, IBPR, ItemKNN, MLP, NeuMF, HFT, CTR, VAECF, BiVAECF \n",
    "from cornac.metrics import MAE, RMSE, Precision, Recall, FMeasure, NDCG, AUC, MAP, MRR, MSE\n",
    "# if the model uses autoencoder may need a word dictionary\n",
    "from cornac.data import Reader\n",
    "from cornac.data import TextModality\n",
    "from cornac.data.text import BaseTokenizer\n",
    "\n",
    "import tensorflow as tf\n",
    "\n",
    "print(f\"System version: {sys.version}\")\n",
    "print(f\"Cornac version: {cornac.__version__}\")\n",
    "print(f\"Tensorflow version: {tf.__version__}\")"
   ]
  },
  {
   "cell_type": "code",
   "execution_count": 2,
   "id": "44ee10e1",
   "metadata": {},
   "outputs": [
    {
     "data": {
      "text/plain": [
       "(1007, 150000)"
      ]
     },
     "execution_count": 2,
     "metadata": {},
     "output_type": "execute_result"
    }
   ],
   "source": [
    "# Opening X-Wines Slim version dataset\n",
    "slimWines = pd.read_csv('XWines_100k_Slim_wines.csv', low_memory=False, encoding=\"utf-8\", memory_map=True)\n",
    "slimRatings = pd.read_csv('XWines_150k_Slim_ratings.csv', low_memory=False, encoding=\"utf-8\", memory_map=True)\n",
    "len(slimWines), len(slimRatings)"
   ]
  },
  {
   "cell_type": "code",
   "execution_count": 3,
   "id": "ce257903",
   "metadata": {},
   "outputs": [
    {
     "name": "stdout",
     "output_type": "stream",
     "text": [
      "10561 users who rated 1007 wines\n",
      "in the period between 2012-04-19 20:46:00 and 2021-12-31 23:58:52\n",
      "Total ratings: 150000 5-stars on wine vintages since 1950, including non-vintage 'N.V.'\n"
     ]
    }
   ],
   "source": [
    "print(slimRatings.UserID.nunique(), \"users who rated\",slimRatings.WineID.nunique(), \"wines\")\n",
    "print(f\"in the period between {slimRatings.Date.min()} and {slimRatings.Date.max()}\")\n",
    "print(\"Total ratings:\", len(slimRatings), f\"5-stars on wine vintages since {slimRatings.Vintage.min()}, including non-vintage 'N.V.'\")"
   ]
  },
  {
   "cell_type": "code",
   "execution_count": 4,
   "id": "0ee473c2",
   "metadata": {},
   "outputs": [
    {
     "name": "stdout",
     "output_type": "stream",
     "text": [
      "Sample in list format\n"
     ]
    },
    {
     "data": {
      "application/vnd.jupyter.widget-view+json": {
       "model_id": "942f6945e1794de7b0f07cf977586c3f",
       "version_major": 2,
       "version_minor": 0
      },
      "text/plain": [
       "  0%|          | 0/150000 [00:00<?, ?it/s]"
      ]
     },
     "metadata": {},
     "output_type": "display_data"
    },
    {
     "data": {
      "text/plain": [
       "([('1160798', '101008', 2.0),\n",
       "  ('1213955', '111429', 4.5),\n",
       "  ('1230088', '100064', 4.0),\n",
       "  ('2052301', '111495', 4.0),\n",
       "  ('1355634', '168128', 3.5)],\n",
       " 150000)"
      ]
     },
     "execution_count": 4,
     "metadata": {},
     "output_type": "execute_result"
    }
   ],
   "source": [
    "SEED = 42\n",
    "VERBOSE = False\n",
    "\n",
    "# X-Wines in list format (int, int, float)\n",
    "print(\"Sample in list format\")\n",
    "XW_150k = []\n",
    "for _,row in tqdm(slimRatings.iterrows(), total=len(slimRatings)):\n",
    "    XW_150k.append(eval(f\"('{int(row.UserID)}', '{int(row.WineID)}', {float(row.Rating)})\"))\n",
    "    \n",
    "XW_150k[:5], len(XW_150k)"
   ]
  },
  {
   "cell_type": "code",
   "execution_count": 5,
   "id": "9a3660f9",
   "metadata": {},
   "outputs": [
    {
     "name": "stdout",
     "output_type": "stream",
     "text": [
      "Dictionary creation for autoencoder uses\n"
     ]
    },
    {
     "data": {
      "application/vnd.jupyter.widget-view+json": {
       "model_id": "87eb58210a804381a9ec0c3b5a34dd2d",
       "version_major": 2,
       "version_minor": 0
      },
      "text/plain": [
       "  0%|          | 0/1007 [00:00<?, ?it/s]"
      ]
     },
     "metadata": {},
     "output_type": "display_data"
    },
    {
     "data": {
      "text/plain": [
       "(['101008', '111429', '100064', '111495', '168128'],\n",
       " 1007,\n",
       " ['Campo Largo Branco Seco de Mesa Zanlorenzi Serra Gaúcha',\n",
       "  'Saint-Estèphe (Grand Cru Classé) Château Montrose Saint-Estèphe',\n",
       "  'Réserve Brut CHANDON Brazil Serra Gaúcha',\n",
       "  'Pauillac (Grand Cru Classé) Château Duhart-Milon Pauillac',\n",
       "  'Brut Rosé CHANDON Argentina Mendoza'],\n",
       " 1007)"
      ]
     },
     "execution_count": 5,
     "metadata": {},
     "output_type": "execute_result"
    }
   ],
   "source": [
    "print(\"Dictionary creation for autoencoder uses\")\n",
    "item_ids = []; item_dict = []  \n",
    "for wine in tqdm(slimRatings.WineID.unique()):\n",
    "    item_ids.append(eval(f\"'{int(wine)}'\"))\n",
    "    dict = slimWines[slimWines.WineID==wine][['WineName', 'WineryName', 'RegionName']].values[0]\n",
    "    item_dict.append( (dict[0]+\" \"+dict[1]+\" \"+dict[2]).replace(\"  \",\" \") )\n",
    "item_ids[:5], len(item_ids), item_dict[:5], len(item_dict)"
   ]
  },
  {
   "cell_type": "code",
   "execution_count": 6,
   "id": "9588fc74",
   "metadata": {},
   "outputs": [],
   "source": [
    "# Instantiate a TextModality, it makes it convenient to work with text auxiliary information\n",
    "item_text_modality = TextModality(corpus=item_dict, ids=item_ids, \n",
    "                                  tokenizer=BaseTokenizer(stop_words='english'), max_vocab=5000, max_doc_freq=0.5)"
   ]
  },
  {
   "cell_type": "code",
   "execution_count": 7,
   "id": "6592cfc1",
   "metadata": {},
   "outputs": [],
   "source": [
    "# split the X-Wines dataset based on ratio   \n",
    "rsXW = RatioSplit(data=XW_150k, test_size=0.2, rating_threshold=5.0, \n",
    "                  exclude_unknowns=True, item_text=item_text_modality, seed=SEED, verbose=VERBOSE)"
   ]
  },
  {
   "cell_type": "code",
   "execution_count": 8,
   "id": "88212c40",
   "metadata": {},
   "outputs": [],
   "source": [
    "# define models\n",
    "K=10\n",
    "LEARNING_RATE = 0.001  # @param\n",
    "VOCAB_SIZE = 5000  # @param\n",
    "NUM_FACTORS = 25  # @param\n",
    "AE_LAYERS  = [500, 100]  # @param  [500, 100]\n",
    "MLP_LAYERS = [128, 64, 32, 16]  # @param\n",
    "ACTIVATION = \"tanh\"  # @param [\"adam\", \"adagrad\", tanh\", \"sigmoid\", \"relu\", \"leaky_relu\"]\n",
    "LIKELIHOOD = \"bern\"  # @param [\"bern\", \"mult\", \"gaus\", \"pois\"]\n",
    "NEG_SAMPLES = 3  # @param\n",
    "NUM_EPOCHS = 20  # @param \n",
    "BATCH_SIZE = 100  # @param\n",
    "\n",
    "models = [\n",
    "    PMF(name='PMF (D)'),\n",
    "    PMF(name='PMF (M)', k=K, variant='linear', seed=SEED, verbose=VERBOSE),\n",
    "   \n",
    "    NMF(name='NMF (D)'),\n",
    "    NMF(name='NMF (M)', k=NUM_FACTORS, max_iter=200, learning_rate=LEARNING_RATE, lambda_reg=0.1, use_bias=True,\n",
    "        seed=SEED, verbose=VERBOSE),\n",
    "    \n",
    "    MMMF(name='MMMF (D)'),\n",
    "    MMMF(name='MMMF (M)', learning_rate=0.01, seed=SEED, verbose=VERBOSE),\n",
    "    \n",
    "    BPR(name='BPR (D)'),\n",
    "    BPR(name='BPR (M)', learning_rate=0.01, seed=SEED, verbose=VERBOSE),\n",
    "\n",
    "    IBPR(name='IBPR (D)'),\n",
    "    IBPR(name='IBPR (M)',k=NUM_FACTORS, learning_rate=LEARNING_RATE, lamda=0.01, verbose=VERBOSE),\n",
    "    \n",
    "    ItemKNN(name=\"ItemKNN (D)\"), \n",
    "    ItemKNN(name=\"ItemKNN (M)\", k=K, similarity=\"pearson\", mean_centered=True, seed=SEED, verbose=VERBOSE),\n",
    "\n",
    "    MLP(name='MLP (D)'),\n",
    "    MLP(name='MLP (M)', lr=0.01, batch_size=BATCH_SIZE, num_neg=NEG_SAMPLES, seed=SEED, verbose=VERBOSE),  \n",
    "\n",
    "    NeuMF(name='NeuMF/NCF (D)'),\n",
    "    NeuMF(name='NeuMF/NCF (M)', num_factors=K, layers=MLP_LAYERS, act_fn=ACTIVATION, num_neg=NEG_SAMPLES,\n",
    "          batch_size=BATCH_SIZE, lr=0.01, seed=SEED, verbose=VERBOSE),\n",
    "    \n",
    "    HFT(name='HFT (D)'),\n",
    "    HFT(name='HFT (M)', k=NUM_FACTORS, max_iter=40, grad_iter=5, lambda_text=0.01, vocab_size=VOCAB_SIZE,\n",
    "        seed=SEED, verbose=VERBOSE),\n",
    "\n",
    "    CTR(name='CTR (D)'),\n",
    "    CTR(name='CTR (M)', k=NUM_FACTORS, max_iter=50, seed=SEED, verbose=VERBOSE),  \n",
    "    \n",
    "    VAECF(name='VAECF (D)'),\n",
    "    VAECF(name='VAECF (M)', k=NUM_FACTORS, seed=SEED, verbose=VERBOSE, use_gpu=True),\n",
    "    \n",
    "    BiVAECF(name='BiVAECF (D)'),\n",
    "    BiVAECF(name='BiVAECF (M)', encoder_structure=AE_LAYERS, likelihood=LIKELIHOOD, seed=SEED, verbose=VERBOSE),\n",
    "]\n",
    "\n",
    "# define metrics to evaluate the models\n",
    "metrics = [MAE(), RMSE(), Precision(k=K), Recall(k=K), NDCG(k=K), FMeasure(k=K), AUC(), MAP(), MRR()]"
   ]
  },
  {
   "cell_type": "code",
   "execution_count": 9,
   "id": "5118f03a",
   "metadata": {},
   "outputs": [
    {
     "data": {
      "application/vnd.jupyter.widget-view+json": {
       "model_id": "6311e0e847c147eeabffb65ba761ad02",
       "version_major": 2,
       "version_minor": 0
      },
      "text/plain": [
       "  0%|          | 0/1004 [00:00<?, ?it/s]"
      ]
     },
     "metadata": {},
     "output_type": "display_data"
    },
    {
     "data": {
      "application/vnd.jupyter.widget-view+json": {
       "model_id": "0575ca46822c4a929a76f26f0ea92d9f",
       "version_major": 2,
       "version_minor": 0
      },
      "text/plain": [
       "  0%|          | 0/20 [00:00<?, ?it/s]"
      ]
     },
     "metadata": {},
     "output_type": "display_data"
    },
    {
     "data": {
      "application/vnd.jupyter.widget-view+json": {
       "model_id": "1dcf3ffb5f494c368a9ad80d51702c5a",
       "version_major": 2,
       "version_minor": 0
      },
      "text/plain": [
       "  0%|          | 0/20 [00:00<?, ?it/s]"
      ]
     },
     "metadata": {},
     "output_type": "display_data"
    },
    {
     "data": {
      "application/vnd.jupyter.widget-view+json": {
       "model_id": "fe87a8e26b0245a18ca970f6dcaf1403",
       "version_major": 2,
       "version_minor": 0
      },
      "text/plain": [
       "  0%|          | 0/50 [00:00<?, ?it/s]"
      ]
     },
     "metadata": {},
     "output_type": "display_data"
    },
    {
     "name": "stdout",
     "output_type": "stream",
     "text": [
      "Learning completed!\n"
     ]
    },
    {
     "data": {
      "application/vnd.jupyter.widget-view+json": {
       "model_id": "ed77155d3e334bb5a04af403f5c76e82",
       "version_major": 2,
       "version_minor": 0
      },
      "text/plain": [
       "  0%|          | 0/100 [00:00<?, ?it/s]"
      ]
     },
     "metadata": {},
     "output_type": "display_data"
    },
    {
     "name": "stdout",
     "output_type": "stream",
     "text": [
      "Learning completed!\n",
      "\n",
      "TEST:\n",
      "...\n",
      "              |    MAE |   RMSE |    AUC |  F1@10 |    MAP |    MRR | NDCG@10 | Precision@10 | Recall@10 | Train (s) | Test (s)\n",
      "------------- + ------ + ------ + ------ + ------ + ------ + ------ + ------- + ------------ + --------- + --------- + --------\n",
      "PMF (D)       | 0.3721 | 0.4205 | 0.9110 | 0.0580 | 0.1028 | 0.1104 |  0.1298 |       0.0330 |    0.2718 |    2.4444 |   2.9662\n",
      "PMF (M)       | 0.4100 | 0.4722 | 0.9179 | 0.0550 | 0.1132 | 0.1244 |  0.1340 |       0.0314 |    0.2524 |    4.3686 |   2.9784\n",
      "NMF (D)       | 0.3958 | 0.4480 | 0.8619 | 0.0244 | 0.0543 | 0.0614 |  0.0538 |       0.0140 |    0.1105 |    0.4911 |   3.5894\n",
      "NMF (M)       | 0.3541 | 0.4025 | 0.8953 | 0.0508 | 0.0903 | 0.0992 |  0.1109 |       0.0290 |    0.2348 |    3.4113 |   3.5756\n",
      "MMMF (D)      | 2.8310 | 2.8665 | 0.8225 | 0.0189 | 0.0300 | 0.0339 |  0.0340 |       0.0108 |    0.0883 |    0.1575 |   3.6599\n",
      "MMMF (M)      | 2.8310 | 2.8665 | 0.8796 | 0.0311 | 0.0548 | 0.0593 |  0.0639 |       0.0176 |    0.1494 |    0.9312 |   3.6454\n",
      "BPR (D)       | 2.2319 | 2.2876 | 0.9027 | 0.0451 | 0.0645 | 0.0711 |  0.0887 |       0.0255 |    0.2161 |    0.2540 |   3.6603\n",
      "BPR (M)       | 2.2503 | 2.3100 | 0.9200 | 0.0556 | 0.0956 | 0.1072 |  0.1206 |       0.0317 |    0.2581 |    1.2965 |   3.6452\n",
      "IBPR (D)      | 2.8310 | 2.8665 | 0.9026 | 0.0259 | 0.0600 | 0.0670 |  0.0589 |       0.0149 |    0.1174 |  656.7434 |   3.1716\n",
      "IBPR (M)      | 2.8310 | 2.8665 | 0.9110 | 0.0350 | 0.0700 | 0.0801 |  0.0767 |       0.0201 |    0.1597 |  882.9798 |   3.2238\n",
      "ItemKNN (D)   | 0.4741 | 0.5357 | 0.4759 | 0.0004 | 0.0033 | 0.0038 |  0.0011 |       0.0002 |    0.0019 |    0.2190 |   7.0210\n",
      "ItemKNN (M)   | 0.4712 | 0.5341 | 0.6247 | 0.0017 | 0.0078 | 0.0087 |  0.0032 |       0.0010 |    0.0081 |    0.2498 |   8.3768\n",
      "MLP (D)       | 2.8310 | 2.8665 | 0.8921 | 0.0473 | 0.0897 | 0.0999 |  0.1071 |       0.0271 |    0.2149 |  183.2199 |  10.0160\n",
      "MLP (M)       | 2.8310 | 2.8665 | 0.8975 | 0.0538 | 0.1054 | 0.1155 |  0.1277 |       0.0308 |    0.2470 |  186.2839 |   9.9920\n",
      "NeuMF/NCF (D) | 2.8310 | 2.8665 | 0.8871 | 0.0364 | 0.0763 | 0.0859 |  0.0852 |       0.0208 |    0.1668 |  188.1303 |  11.1774\n",
      "NeuMF/NCF (M) | 2.8310 | 2.8665 | 0.9069 | 0.0461 | 0.0991 | 0.1125 |  0.1122 |       0.0265 |    0.2070 |  226.9690 |  11.6637\n",
      "HFT (D)       | 0.7274 | 0.8204 | 0.7357 | 0.0102 | 0.0272 | 0.0297 |  0.0227 |       0.0058 |    0.0465 | 2632.2388 |   2.9536\n",
      "HFT (M)       | 0.3960 | 0.4495 | 0.8520 | 0.0319 | 0.0734 | 0.0808 |  0.0787 |       0.0182 |    0.1478 |  180.4121 |   3.0957\n",
      "CTR (D)       | 2.7821 | 2.8218 | 0.6196 | 0.0043 | 0.0124 | 0.0140 |  0.0065 |       0.0025 |    0.0182 |  452.7748 |   3.3126\n",
      "CTR (M)       | 1.7647 | 1.9052 | 0.8411 | 0.0459 | 0.0975 | 0.1095 |  0.1139 |       0.0262 |    0.2131 |   40.4884 |   3.1014\n",
      "VAECF (D)     | 2.8310 | 2.8665 | 0.9224 | 0.0622 | 0.1385 | 0.1553 |  0.1620 |       0.0356 |    0.2843 |   36.1579 |  13.3041\n",
      "VAECF (M)     | 2.8310 | 2.8665 | 0.9234 | 0.0646 | 0.1450 | 0.1622 |  0.1700 |       0.0370 |    0.2958 |   39.4341 |  12.5907\n",
      "BiVAECF (D)   | 2.6865 | 2.7222 | 0.9163 | 0.0571 | 0.0954 | 0.1036 |  0.1213 |       0.0325 |    0.2661 |   67.2521 |   4.2287\n",
      "BiVAECF (M)   | 2.5775 | 2.6160 | 0.9212 | 0.0631 | 0.1237 | 0.1386 |  0.1526 |       0.0360 |    0.2915 |  152.4658 |   4.3016\n",
      "\n"
     ]
    }
   ],
   "source": [
    "# put it together in an experiment for all models, voilà!\n",
    "cornac.Experiment(eval_method=rsXW, models=models, metrics=metrics, user_based=True).run()"
   ]
  },
  {
   "cell_type": "code",
   "execution_count": null,
   "id": "d04775f5",
   "metadata": {},
   "outputs": [],
   "source": []
  },
  {
   "cell_type": "code",
   "execution_count": 10,
   "id": "51be64e6",
   "metadata": {
    "scrolled": true
   },
   "outputs": [
    {
     "name": "stdout",
     "output_type": "stream",
     "text": [
      "\n",
      "TEST:\n",
      "...\n",
      "        |    MAE |   RMSE |    AUC |  F1@10 |    MAP |    MRR | NDCG@10 | Precision@10 | Recall@10 | Train (s) | Test (s)\n",
      "------- + ------ + ------ + ------ + ------ + ------ + ------ + ------- + ------------ + --------- + --------- + --------\n",
      "NMF (D) | 0.3905 | 0.4419 | 0.8665 | 0.0273 | 0.0583 | 0.0649 |  0.0606 |       0.0156 |    0.1243 |    0.5393 |   4.0109\n",
      "NMF (M) | 0.3541 | 0.4025 | 0.8953 | 0.0508 | 0.0903 | 0.0992 |  0.1109 |       0.0290 |    0.2348 |    3.4504 |   3.6459\n",
      "\n"
     ]
    }
   ],
   "source": [
    "# Or, for each model individually, it is necessary to execute the commands below to create an individual log\n",
    "models = [\n",
    "    NMF(name='NMF (D)'),\n",
    "    NMF(name='NMF (M)', k=NUM_FACTORS, max_iter=200, learning_rate=LEARNING_RATE, lambda_reg=0.1, use_bias=True,\n",
    "        seed=SEED, verbose=VERBOSE),\n",
    "]\n",
    "cornac.Experiment(eval_method=rsXW, models=models, metrics=metrics, user_based=True).run()"
   ]
  },
  {
   "cell_type": "code",
   "execution_count": null,
   "id": "1810f3d6",
   "metadata": {},
   "outputs": [],
   "source": []
  },
  {
   "cell_type": "raw",
   "id": "4be11558",
   "metadata": {},
   "source": [
    "# References: [1] Cornac is a comparative framework for multimodal recommender systems at https://cornac.preferred.ai"
   ]
  }
 ],
 "metadata": {
  "kernelspec": {
   "display_name": "Python 3 (ipykernel)",
   "language": "python",
   "name": "python3"
  },
  "language_info": {
   "codemirror_mode": {
    "name": "ipython",
    "version": 3
   },
   "file_extension": ".py",
   "mimetype": "text/x-python",
   "name": "python",
   "nbconvert_exporter": "python",
   "pygments_lexer": "ipython3",
   "version": "3.7.15"
  }
 },
 "nbformat": 4,
 "nbformat_minor": 5
}
