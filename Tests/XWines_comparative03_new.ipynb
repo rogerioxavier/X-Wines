{
 "cells": [
  {
   "cell_type": "markdown",
   "id": "0f085829",
   "metadata": {},
   "source": [
    "#### A comparative study with X-Wines and Movielens[1] datasets with recommender systems metrics\n",
    "#### Rogério Xavier de Azambuja (rogerio.xavier@farroupilha.ifrs.edu.br)\n",
    "#### Dataset X-Wines from https://github.com/rogerioxavier/X-Wines"
   ]
  },
  {
   "cell_type": "code",
   "execution_count": 1,
   "id": "1630b736",
   "metadata": {},
   "outputs": [
    {
     "name": "stdout",
     "output_type": "stream",
     "text": [
      "System version: 3.7.15 (default, Nov  9 2022, 10:44:37) [MSC v.1916 64 bit (AMD64)]\n",
      "Cornac version: 1.14.2\n",
      "Tensorflow version: 1.15.0\n"
     ]
    }
   ],
   "source": [
    "# Opening required packages for processing\n",
    "# basic libs\n",
    "import sys\n",
    "import pandas as pd\n",
    "import numpy as np\n",
    "import random\n",
    "from tqdm.notebook import tqdm\n",
    "\n",
    "# Cornac[2] framework\n",
    "import cornac\n",
    "from cornac.eval_methods import RatioSplit\n",
    "from cornac.models import MF, WMF, SVD, UserKNN\n",
    "from cornac.metrics import Precision, Recall, NDCG, AUC, MAP, MRR\n",
    "\n",
    "import tensorflow as tf\n",
    "\n",
    "print(f\"System version: {sys.version}\")\n",
    "print(f\"Cornac version: {cornac.__version__}\")\n",
    "print(f\"Tensorflow version: {tf.__version__}\")"
   ]
  },
  {
   "cell_type": "code",
   "execution_count": 2,
   "id": "44ee10e1",
   "metadata": {},
   "outputs": [
    {
     "data": {
      "text/plain": [
       "(100646, 21013536)"
      ]
     },
     "execution_count": 2,
     "metadata": {},
     "output_type": "execute_result"
    }
   ],
   "source": [
    "# Opening X-Wines dataset\n",
    "wines   = pd.read_csv(\"XWines_100K_wines.csv\", low_memory=False, encoding=\"utf-8\", memory_map=True)\n",
    "ratings = pd.read_csv(\"XWines_21M_ratings.csv\", low_memory=False, encoding=\"utf-8\", memory_map=True)\n",
    "len(wines), len(ratings)"
   ]
  },
  {
   "cell_type": "code",
   "execution_count": 3,
   "id": "ce257903",
   "metadata": {},
   "outputs": [
    {
     "name": "stdout",
     "output_type": "stream",
     "text": [
      "Total wines: 100646 from 62 different countries\n",
      "Total users: 1056079 who rated the wines\n",
      "             in the period between 2012-01-03 08:20:53 and 2021-12-31 23:59:56\n",
      "Total ratings: 21013536 5-stars on wine vintages since 1950, including non-vintage 'N.V.'\n"
     ]
    }
   ],
   "source": [
    "print(\"Total wines:\", wines.WineID.nunique(), \"from\", wines.Code.nunique() ,\"different countries\")\n",
    "print(\"Total users:\", ratings.UserID.nunique(), \"who rated the wines\")\n",
    "print(f\"             in the period between {ratings.Date.min()} and {ratings.Date.max()}\")\n",
    "print(\"Total ratings:\", len(ratings), f\"5-stars on wine vintages since {ratings.Vintage.min()}, including non-vintage 'N.V.'\")"
   ]
  },
  {
   "cell_type": "code",
   "execution_count": 4,
   "id": "26cba986",
   "metadata": {},
   "outputs": [
    {
     "name": "stdout",
     "output_type": "stream",
     "text": [
      "24399 wines from the country France(FR) \n"
     ]
    }
   ],
   "source": [
    "# A first segmentation because the dataset is too big\n",
    "code = 'FR'\n",
    "country = 'France'\n",
    "wines = wines.sort_values(by='Ratings', ascending=False) #####\n",
    "winesCode = wines.loc[ wines.Code==code ]\n",
    "print(winesCode.WineID.nunique(), f\"wines from the country {country}({code}) \")"
   ]
  },
  {
   "cell_type": "code",
   "execution_count": null,
   "id": "cdc85dd9",
   "metadata": {},
   "outputs": [],
   "source": [
    "# Open the sample or select new random sample\n",
    "# sample = pd.read_csv('../RecSys/SampleFR01.csv', low_memory=False, encoding=\"utf-8\", memory_map=True)"
   ]
  },
  {
   "cell_type": "code",
   "execution_count": 5,
   "id": "6f4779f0",
   "metadata": {},
   "outputs": [
    {
     "name": "stdout",
     "output_type": "stream",
     "text": [
      "1682 selected wines\n",
      "20590800 unique ratings\n",
      "1930480 segmented wine ratings\n",
      "943 selected users\n",
      "100061 segmented winesXusers ratings\n"
     ]
    },
    {
     "data": {
      "application/vnd.jupyter.widget-view+json": {
       "model_id": "f2f97ba2140845b3bb7a76b2e4f2dd96",
       "version_major": 2,
       "version_minor": 0
      },
      "text/plain": [
       "  0%|          | 0/100061 [00:00<?, ?it/s]"
      ]
     },
     "metadata": {},
     "output_type": "display_data"
    },
    {
     "name": "stdout",
     "output_type": "stream",
     "text": [
      "Sample ratings: 100061  # users: 943  # wines: 1654\n"
     ]
    }
   ],
   "source": [
    "# Select rating relationship to sample\n",
    "n_wines=1682\n",
    "n_users=943\n",
    "\n",
    "slide = random.randint(0, 100)  # 5, 10, 50, ...\n",
    "\n",
    "winesSample = winesCode.WineID.unique()[slide:n_wines+slide]\n",
    "print(len(winesSample), \"selected wines\")\n",
    "\n",
    "ratings = ratings.sort_values(by='Date', ascending=False)\n",
    "\n",
    "unic_ratings = ratings.drop_duplicates(subset=['UserID','WineID'], keep = 'first')\n",
    "print(len(unic_ratings), 'unique ratings')\n",
    "\n",
    "unic_ratings = unic_ratings[unic_ratings.WineID.apply(lambda a: True if a in winesSample else False)]\n",
    "print(len(unic_ratings), 'segmented wine ratings')\n",
    "\n",
    "u = unic_ratings.groupby('UserID', as_index=False)[['Rating']].count()\n",
    "u = u.sort_values(by='Rating', ascending=False)\n",
    "usersSample = u[:n_users].UserID.tolist()\n",
    "print(len(usersSample), \"selected users\")\n",
    "\n",
    "unic_ratings = unic_ratings[unic_ratings.UserID.apply(lambda a: True if a in usersSample else False)]\n",
    "print(len(unic_ratings), 'segmented winesXusers ratings')\n",
    "sample=[]\n",
    "for _, row in tqdm(unic_ratings.iterrows(), total=unic_ratings.shape[0]):\n",
    "    # One more verification winesXusers relationship\n",
    "    if row.WineID in winesSample and row.UserID in usersSample:\n",
    "        sample.append([row.UserID, row.WineID, row.Rating])\n",
    "        \n",
    "sample=pd.DataFrame(sample, columns=['UserID', 'WineID', 'Rating'])\n",
    "sample= sample.drop_duplicates(subset=['UserID', 'WineID'])\n",
    "print(\"Sample ratings:\", len(sample), \" # users:\", len(sample.UserID.unique()), \" # wines:\",len(sample.WineID.unique()))"
   ]
  },
  {
   "cell_type": "code",
   "execution_count": 6,
   "id": "b419d1d7",
   "metadata": {},
   "outputs": [],
   "source": [
    "# Adjust if necessary: delete one rating for each user who rated the most\n",
    "n_cut = 61\n",
    "for user in usersSample[:n_cut]:\n",
    "    i = sample[sample.UserID==user][:1].index\n",
    "    sample = sample[sample.index!=i.values[0]]"
   ]
  },
  {
   "cell_type": "code",
   "execution_count": 7,
   "id": "183b9366",
   "metadata": {},
   "outputs": [
    {
     "name": "stdout",
     "output_type": "stream",
     "text": [
      "Sample ratings: 100000  # users: 943  # wines: 1673\n"
     ]
    }
   ],
   "source": [
    "print(\"Sample ratings:\", len(sample), \" # users:\", len(sample.UserID.unique()), \" # wines:\",len(sample.WineID.unique()))\n",
    "SEED = 765\n",
    "VERBOSE = False\n",
    "RATING_THRESHOLD = 4.0\n",
    "TEST_SIZE = 0.2\n",
    "TRAIN_SIZE = 1 - TEST_SIZE"
   ]
  },
  {
   "cell_type": "code",
   "execution_count": null,
   "id": "d7f81f16",
   "metadata": {},
   "outputs": [],
   "source": []
  },
  {
   "cell_type": "code",
   "execution_count": 8,
   "id": "0abf241d",
   "metadata": {},
   "outputs": [
    {
     "data": {
      "text/plain": [
       "([('196', '242', 3.0),\n",
       "  ('186', '302', 3.0),\n",
       "  ('22', '377', 1.0),\n",
       "  ('244', '51', 2.0),\n",
       "  ('166', '346', 1.0)],\n",
       " 100000)"
      ]
     },
     "execution_count": 8,
     "metadata": {},
     "output_type": "execute_result"
    }
   ],
   "source": [
    "# load the built-in MovieLens 100K and split the data based on ratio\n",
    "ml_100k = cornac.datasets.movielens.load_feedback()\n",
    "rsML = RatioSplit(data=ml_100k, test_size=TEST_SIZE, rating_threshold=RATING_THRESHOLD, exclude_unknowns=True, seed=SEED)\n",
    "\n",
    "# Movielens list format: userId, movieId and rating 5-stars for 100,000 ratings\n",
    "ml_100k[:5], len(ml_100k)"
   ]
  },
  {
   "cell_type": "code",
   "execution_count": 9,
   "id": "0ee473c2",
   "metadata": {},
   "outputs": [
    {
     "data": {
      "text/plain": [
       "([('1155087', '111497', 4.0),\n",
       "  ('1120177', '111418', 4.5),\n",
       "  ('1006433', '111754', 4.5),\n",
       "  ('1174755', '111584', 4.5),\n",
       "  ('1140347', '111584', 4.0)],\n",
       " 100000)"
      ]
     },
     "execution_count": 9,
     "metadata": {},
     "output_type": "execute_result"
    }
   ],
   "source": [
    "# X-Wines in same list format\n",
    "XW_100k = []\n",
    "for _,row in sample.iterrows():\n",
    "    XW_100k.append(eval(f\"('{int(row.UserID)}', '{int(row.WineID)}', {float(row.Rating)})\"))\n",
    "# split the X-Wines dataset based on ratio   \n",
    "rsXW = RatioSplit(data=XW_100k, test_size=TEST_SIZE, rating_threshold=RATING_THRESHOLD, exclude_unknowns=True, seed=SEED)\n",
    "\n",
    "XW_100k[:5], len(XW_100k)"
   ]
  },
  {
   "cell_type": "code",
   "execution_count": 12,
   "id": "36d99707",
   "metadata": {},
   "outputs": [],
   "source": [
    "# define models\n",
    "K=10\n",
    "LEARNING_RATE = 0.001\n",
    "\n",
    "models = [\n",
    "    MF (learning_rate=LEARNING_RATE, seed=SEED, verbose=VERBOSE),\n",
    "    WMF(learning_rate=LEARNING_RATE, seed=SEED, verbose=VERBOSE),\n",
    "    SVD(k=2, learning_rate=0.0014, lambda_reg=0.08, seed=SEED, verbose=VERBOSE), #tuned parameters\n",
    "    UserKNN(k=K, similarity=\"cosine\",  name=\"UserKNN-Cosine\", verbose=VERBOSE),\n",
    "    UserKNN(k=K, similarity=\"pearson\", name=\"UserKNN-Pearson\", mean_centered=True, verbose=VERBOSE),\n",
    "]\n",
    "\n",
    "# define metrics to evaluate the models\n",
    "metrics=[ Precision(k=[5, 10, 100]), Recall(k=[5, 10, 100]), NDCG(k=[5, 10, 100]), AUC(), MAP(), MRR()]"
   ]
  },
  {
   "cell_type": "code",
   "execution_count": 11,
   "id": "81bdc7ad",
   "metadata": {},
   "outputs": [
    {
     "name": "stdout",
     "output_type": "stream",
     "text": [
      "\n",
      "TEST:\n",
      "...\n",
      "                |    AUC |    MAP |    MRR | NDCG@10 | NDCG@100 | NDCG@5 | Precision@10 | Precision@100 | Precision@5 | Recall@10 | Recall@100 | Recall@5 | Train (s) | Test (s)\n",
      "--------------- + ------ + ------ + ------ + ------- + -------- + ------ + ------------ + ------------- + ----------- + --------- + ---------- + -------- + --------- + --------\n",
      "MF              | 0.7254 | 0.0479 | 0.1540 |  0.0598 |   0.1435 | 0.0558 |       0.0526 |        0.0349 |      0.0534 |    0.0453 |     0.2894 |   0.0191 |    0.0544 |   1.1619\n",
      "WMF             | 0.9350 | 0.0675 | 0.1198 |  0.0421 |   0.2247 | 0.0315 |       0.0374 |        0.0507 |      0.0298 |    0.0424 |     0.5729 |   0.0117 |    5.5188 |   0.9137\n",
      "SVD             | 0.7232 | 0.0458 | 0.1406 |  0.0562 |   0.1322 | 0.0475 |       0.0502 |        0.0322 |      0.0441 |    0.0442 |     0.2640 |   0.0161 |    0.0313 |   1.2101\n",
      "UserKNN-Cosine  | 0.6960 | 0.0162 | 0.0150 |  0.0005 |   0.0374 | 0.0000 |       0.0005 |        0.0118 |      0.0000 |    0.0009 |     0.1025 |   0.0000 |    0.0996 |   3.0036\n",
      "UserKNN-Pearson | 0.6723 | 0.0151 | 0.0143 |  0.0006 |   0.0280 | 0.0000 |       0.0008 |        0.0098 |      0.0000 |    0.0005 |     0.0711 |   0.0000 |    0.0866 |   2.9957\n",
      "\n"
     ]
    }
   ],
   "source": [
    "# put it together in an experiment, voilà!\n",
    "cornac.Experiment(eval_method=rsML, models=models, metrics=metrics, user_based=True, ).run()"
   ]
  },
  {
   "cell_type": "code",
   "execution_count": 13,
   "id": "1221f71e",
   "metadata": {},
   "outputs": [
    {
     "name": "stdout",
     "output_type": "stream",
     "text": [
      "\n",
      "TEST:\n",
      "...\n",
      "                |    AUC |    MAP |    MRR | NDCG@10 | NDCG@100 | NDCG@5 | Precision@10 | Precision@100 | Precision@5 | Recall@10 | Recall@100 | Recall@5 | Train (s) | Test (s)\n",
      "--------------- + ------ + ------ + ------ + ------- + -------- + ------ + ------------ + ------------- + ----------- + --------- + ---------- + -------- + --------- + --------\n",
      "MF              | 0.7478 | 0.0488 | 0.1628 |  0.0583 |   0.1406 | 0.0598 |       0.0534 |        0.0355 |      0.0585 |    0.0397 |     0.2520 |   0.0234 |    0.0520 |   1.2438\n",
      "WMF             | 0.8333 | 0.0467 | 0.1261 |  0.0385 |   0.1445 | 0.0376 |       0.0378 |        0.0406 |      0.0367 |    0.0235 |     0.2868 |   0.0112 |    5.7322 |   0.9000\n",
      "SVD             | 0.7545 | 0.0445 | 0.1540 |  0.0512 |   0.1336 | 0.0508 |       0.0483 |        0.0349 |      0.0478 |    0.0343 |     0.2465 |   0.0172 |    0.0157 |   1.3398\n",
      "UserKNN-Cosine  | 0.7714 | 0.0341 | 0.0685 |  0.0200 |   0.1047 | 0.0150 |       0.0225 |        0.0305 |      0.0180 |    0.0164 |     0.2174 |   0.0072 |    0.0896 |   4.0932\n",
      "UserKNN-Pearson | 0.7620 | 0.0320 | 0.0603 |  0.0155 |   0.0973 | 0.0111 |       0.0181 |        0.0287 |      0.0138 |    0.0126 |     0.2056 |   0.0048 |    0.0756 |   3.4286\n",
      "\n"
     ]
    }
   ],
   "source": [
    "# put it together in an experiment, voilà! Maybe you need run define models before once again\n",
    "cornac.Experiment(eval_method=rsXW, models=models, metrics=metrics, user_based=True).run()"
   ]
  },
  {
   "cell_type": "code",
   "execution_count": null,
   "id": "6493ed5a",
   "metadata": {},
   "outputs": [],
   "source": []
  },
  {
   "cell_type": "code",
   "execution_count": null,
   "id": "378a7186",
   "metadata": {},
   "outputs": [],
   "source": []
  },
  {
   "cell_type": "code",
   "execution_count": null,
   "id": "a9aec8b0",
   "metadata": {},
   "outputs": [],
   "source": []
  },
  {
   "cell_type": "code",
   "execution_count": null,
   "id": "33ab83fa",
   "metadata": {},
   "outputs": [],
   "source": []
  },
  {
   "cell_type": "code",
   "execution_count": null,
   "id": "f1794bce",
   "metadata": {},
   "outputs": [],
   "source": []
  },
  {
   "cell_type": "markdown",
   "id": "b089ba99",
   "metadata": {},
   "source": [
    "References:\n",
    "[1] Movielens by Grouplens/University of Minnesota at https://grouplens.org/datasets/movielens\n",
    "[2] Cornac is a comparative framework for multimodal recommender systems at https://cornac.preferred.ai"
   ]
  }
 ],
 "metadata": {
  "kernelspec": {
   "display_name": "Python 3 (ipykernel)",
   "language": "python",
   "name": "python3"
  },
  "language_info": {
   "codemirror_mode": {
    "name": "ipython",
    "version": 3
   },
   "file_extension": ".py",
   "mimetype": "text/x-python",
   "name": "python",
   "nbconvert_exporter": "python",
   "pygments_lexer": "ipython3",
   "version": "3.7.15"
  }
 },
 "nbformat": 4,
 "nbformat_minor": 5
}
